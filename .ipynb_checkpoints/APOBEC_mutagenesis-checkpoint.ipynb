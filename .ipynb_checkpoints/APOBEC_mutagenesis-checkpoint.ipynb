{
 "cells": [
  {
   "cell_type": "markdown",
   "id": "819d94db",
   "metadata": {},
   "source": [
    "# APOBEC mutagenesis in different genome regions\n",
    "## Table of contents <a name=\"TOC\"></a>\n",
    "1. [APOBEC mutagenesis in R-loops](#RL)\n",
    "    1. [Downloading coordinates of R-loops and hg38](#input_data)\n",
    "    2. [Searching for potential APOBEC targets (TC)](#searching_motifs)\n",
    "    3. [Searching for APOBEC-mutated targets and calculation D_APOBEC](#D_APOBEC_RL)\n",
    "2. [APOBEC mutagenesis in transposons](#TE)\n",
    "    1. [Downloading RepeatMasker database](#RM)\n",
    "    2. [Processing a file with transposons coordinates](#processing)\n",
    "    3. [Searching for potential APOBEC targets and APOBEC-mutated targets in and outside TE and calculation D_APOBEC](#D_APOBEC_TE)"
   ]
  },
  {
   "cell_type": "code",
   "execution_count": null,
   "id": "feb5ab32",
   "metadata": {},
   "outputs": [],
   "source": [
    "import pandas as pd\n",
    "import numpy as np"
   ]
  },
  {
   "cell_type": "code",
   "execution_count": null,
   "id": "db73cd0b",
   "metadata": {},
   "outputs": [],
   "source": [
    "import pandas as pd\n",
    "import numpy as np\n",
    "import gzip\n",
    "from Bio.SeqIO.FastaIO import SimpleFastaParser\n",
    "from Bio import SeqIO \n",
    "from Bio.SeqRecord import SeqRecord\n",
    "from Bio.Seq import Seq"
   ]
  },
  {
   "cell_type": "code",
   "execution_count": null,
   "id": "c40d2d68",
   "metadata": {},
   "outputs": [],
   "source": [
    "import re\n",
    "import random\n",
    "import gzip\n",
    "from natsort import index_natsorted"
   ]
  },
  {
   "cell_type": "markdown",
   "id": "6047f0bc",
   "metadata": {},
   "source": [
    "## APOBEC mutagenesis in R-loops\n",
    "<a name='RL'></a>"
   ]
  },
  {
   "cell_type": "markdown",
   "id": "c25e8aec",
   "metadata": {},
   "source": [
    "### hg38\n",
    "\n",
    "<a name='input_data'></a>\n",
    "[Return to Table of Contents](#TOC)"
   ]
  },
  {
   "cell_type": "markdown",
   "id": "e2de89f2",
   "metadata": {},
   "source": [
    "downloading hg38 genome https://hgdownload.soe.ucsc.edu/goldenPath/hg38/bigZips/"
   ]
  },
  {
   "cell_type": "code",
   "execution_count": null,
   "id": "f522277e",
   "metadata": {},
   "outputs": [],
   "source": [
    "chr_list = list(range(1,23))\n",
    "\n",
    "hg38_genome = dict()\n",
    "with gzip.open(\"genome/hg38.fa.gz\", \"rt\") as fasta_file:\n",
    "    for sequence in SimpleFastaParser(fasta_file):\n",
    "        chrom = sequence[0][3:]\n",
    "        if chrom in [str(chrom) for chrom in chr_list]:\n",
    "            hg38_genome[int(chrom)] = sequence[1].upper()\n",
    "            print(chrom, end=', ')\n",
    "        elif chrom in ['X', 'Y']:\n",
    "            hg38_genome[chrom] = sequence[1].upper()\n",
    "            print(chrom, end=', ')"
   ]
  },
  {
   "cell_type": "markdown",
   "id": "41424cc5",
   "metadata": {},
   "source": [
    "### mutations in cancer\n",
    "\n",
    "Source https://doi.org/10.1038/s41586-020-1969-6\n",
    "\n",
    "We chose mutation C>T, C>G and G>A, G>C and translated coordinates to hg38 genome version using liftOver\n",
    "\n",
    "<a name='input_data'></a>\n",
    "[Return to Table of Contents](#TOC)"
   ]
  },
  {
   "cell_type": "markdown",
   "id": "0f42baa0",
   "metadata": {},
   "source": [
    "### R-loops coordinates\n",
    "\n",
    "[Return to Table of Contents](#TOC)\n",
    "\n",
    "source https://academic.oup.com/nar/article/50/13/7260/6618547#366685035"
   ]
  },
  {
   "cell_type": "code",
   "execution_count": null,
   "id": "9d83df3f",
   "metadata": {},
   "outputs": [],
   "source": [
    "RL_regions = pd.read_csv('RL_regions.csv')\n",
    "RL_regions.head()"
   ]
  },
  {
   "cell_type": "markdown",
   "id": "fcdc5b34",
   "metadata": {},
   "source": [
    "### Searching for potential APOBEC targets (TC)\n",
    "\n",
    "<a name='searching_motifs'></a>\n",
    "[Return to Table of Contents](#TOC)"
   ]
  },
  {
   "cell_type": "markdown",
   "id": "e93ce45a",
   "metadata": {},
   "source": [
    "#### Searching for potential APOBEC targets (TC) in R-loops"
   ]
  },
  {
   "cell_type": "code",
   "execution_count": null,
   "id": "fc1dc887",
   "metadata": {},
   "outputs": [],
   "source": [
    "sequences = []\n",
    "RL_regions = RL_regions[RL_regions['chrom'] != 'chrM']\n",
    "for row in range(0, len(RL_regions)):\n",
    "    N_chr = RL_regions.iloc[row]['chrom'][3:]\n",
    "    if N_chr != 'X' and N_chr != 'Y':\n",
    "        N_chr = int(N_chr)\n",
    "    start = RL_regions.iloc[row]['start']\n",
    "    end = RL_regions.iloc[row]['end']\n",
    "    sequences.append(hg38_genome[N_chr][start:end])\n",
    "RL_regions['seq'] = sequences"
   ]
  },
  {
   "cell_type": "code",
   "execution_count": null,
   "id": "7d79d1bd",
   "metadata": {},
   "outputs": [],
   "source": [
    "RL_regions.head()"
   ]
  },
  {
   "cell_type": "code",
   "execution_count": null,
   "id": "982241fb",
   "metadata": {},
   "outputs": [],
   "source": [
    "RL_regions['N_motifs'] = RL_regions.seq.str.count('TC') + RL_regions.seq.str.count('GA')\n",
    "RL_regions.head()"
   ]
  },
  {
   "cell_type": "code",
   "execution_count": null,
   "id": "7956459c",
   "metadata": {},
   "outputs": [],
   "source": [
    "print('Number of potential APOBEC targets in R-loops: ', RL_regions.N_motifs.sum())"
   ]
  },
  {
   "cell_type": "markdown",
   "id": "060a4864",
   "metadata": {},
   "source": [
    "#### Searching for potential APOBEC targets (TC) outside R-loops"
   ]
  },
  {
   "cell_type": "code",
   "execution_count": null,
   "id": "3c8e0450",
   "metadata": {},
   "outputs": [],
   "source": [
    "chrom_list_XY = list(range(1,23)) + ['X', 'Y']\n",
    "motifs_count = dict()\n",
    "for chrom in chrom_list_XY:\n",
    "    motifs_count[chrom] = pd.Series([hg38_genome[chrom].count('TC'), hg38_genome[chrom].count('GA')], index = ['TC', 'GA'])\n",
    "motifs_count = pd.concat(motifs_count).unstack()"
   ]
  },
  {
   "cell_type": "code",
   "execution_count": null,
   "id": "90765883",
   "metadata": {},
   "outputs": [],
   "source": [
    "motifs_count['TC_GA'] = motifs_count['TC']+motifs_count['GA']\n",
    "motifs_count"
   ]
  },
  {
   "cell_type": "code",
   "execution_count": null,
   "id": "f52b7a07",
   "metadata": {},
   "outputs": [],
   "source": [
    "motifs_count.sum()"
   ]
  },
  {
   "cell_type": "code",
   "execution_count": null,
   "id": "2d41b0a5",
   "metadata": {},
   "outputs": [],
   "source": [
    "print('Number of potential APOBEC targets NOT in R-loops: ', 350769311-16990012)"
   ]
  },
  {
   "cell_type": "markdown",
   "id": "d98eb9f6",
   "metadata": {},
   "source": [
    "### Searching for APOBEC-mutated targets and calculation the mutation density D_APOBEC\n",
    "\n",
    "<a name='D_APOBEC_RL'></a>\n",
    "[Return to Table of Contents](#TOC)"
   ]
  },
  {
   "cell_type": "markdown",
   "id": "7dd9cba6",
   "metadata": {},
   "source": [
    "#### Python script\n",
    "\n",
    "the program below was run separately on the command line as a python script"
   ]
  },
  {
   "cell_type": "code",
   "execution_count": null,
   "id": "899213a6",
   "metadata": {},
   "outputs": [],
   "source": [
    "import sys\n",
    "import os\n",
    "\n",
    "import pandas as pd\n",
    "import numpy as np\n",
    "\n",
    "\n",
    "# input data\n",
    "RL_path = '.../RL_regions.csv'\n",
    "cancer = ['BLCA', 'BRCA', 'CESC', 'HNSC', 'LUAD', 'LUSC']\n",
    "cancer_path = 'data/APOBEC_mutated_position_cancer_samples/'\n",
    "outfile_path = 'data/outpus/D_APOBEC_RL.csv'\n",
    "# Number of potential APOBEC targets in R-loops\n",
    "N_TCN_RL = 16990012\n",
    "# Number of potential APOBEC targets outside R-loops\n",
    "N_TCN_out = 333779299\n",
    "\n",
    "# Searching for position that are in R-loops\n",
    "\n",
    "def closest_value(input_list, input_value):\n",
    "    arr = np.asarray(input_list)\n",
    "    i = (np.abs(arr - input_value)).argmin()\n",
    "    return i\n",
    "\n",
    "RL_regions = pd.read_csv(RL_path)\n",
    "\n",
    "snv_mnv = dict()\n",
    "chrom_list_XY = list(range(1,23)) + ['X', 'Y']\n",
    "chrom_list_XY = ['chr'+str(i) for i in chrom_list_XY]\n",
    "\n",
    "for cancer_type in cancer:\n",
    "    print(cancer_type, end=', ')\n",
    "    df = pd.read_csv(cancer_path+cancer_type+'_hg38.bed', sep='\\t', names=['chr', 'start', 'end', 'sample'])\n",
    "    df = df[df['chr'].isin(chrom_list_XY)]\n",
    "    df['inRloop'] = 0\n",
    "    \n",
    "    print(len(df))\n",
    "    \n",
    "    df = df.reset_index(drop=True)\n",
    "    for row in range(0, len(df)):\n",
    "        \n",
    "        Chr = df.iloc[row]['chr']\n",
    "        position = df.iloc[row]['start']\n",
    "        \n",
    "        RL_regions_chr = RL_regions[RL_regions[\"chrom\"]==Chr]\n",
    "        RL_regions_chr = RL_regions_chr.reset_index(drop=True)\n",
    "        \n",
    "        # searching of row's number with the closest to position value\n",
    "        if __name__ == \"__main__\" :\n",
    "            N = closest_value(RL_regions_chr.start.tolist(),position)\n",
    "        \n",
    "        # position may be in this row (N) or in previous row (N-1)\n",
    "        RL_coordinates = [[RL_regions_chr.iloc[N-1]['start'], RL_regions_chr.iloc[N-1]['end']], [RL_regions_chr.iloc[N]['start'], RL_regions_chr.iloc[N]['end']]]\n",
    "        \n",
    "        for x in RL_coordinates:\n",
    "            if position <= x[1] and position >= x[0]:\n",
    "                df.at[row, 'inRloop'] = 1\n",
    "                break\n",
    "    snv_mnv[cancer_type] = df\n",
    "    \n",
    "\n",
    "# Calculation the mutation density D_APOBEC of the APOBEC mutagenesis \n",
    "\n",
    "APOBEC_mutagenesis = pd.DataFrame(columns=['cancer','sample','APOBEC_mutagenesis_inRloops','APOBEC_mutagenesis_outsideRloops'])\n",
    "for cancer_type in cancer:\n",
    "    df = snv_mnv[cancer_type]\n",
    "    for sample in df['sample'].unique():\n",
    "        df_sample = df[df['sample']==sample]\n",
    "\n",
    "        # number of mutated targets inside R loops\n",
    "        N_APOBEC_RL = df_sample.inRloop.sum()\n",
    "        \n",
    "        # number of mutated targets outside R loops\n",
    "        N_APOBEC_out = len(df_sample) - N_APOBEC_RL\n",
    "        \n",
    "        D_APOBEC_RL = N_APOBEC_RL / N_TCN_RL\n",
    "        D_APOBEC_out = N_APOBEC_out / N_TCN_out\n",
    "        \n",
    "        APOBEC_mutagenesis.loc[len(APOBEC_mutagenesis.index)] = [cancer_type, sample, D_APOBEC_RL, D_APOBEC_out]\n",
    "\n",
    "APOBEC_mutagenesis.to_csv(outfile_path, sep='\\t')"
   ]
  },
  {
   "cell_type": "markdown",
   "id": "87b47173",
   "metadata": {},
   "source": [
    "## APOBEC mutagenesis in transposons\n",
    "<a name='TE'></a>\n",
    "\n",
    "### Downloading RepeatMasker database\n",
    "<a name='RM'></a>\n",
    "[Return to Table of Contents](#TOC)\n",
    "\n",
    "source: https://genome.ucsc.edu/cgi-bin/hgTables?hgsid=1725823364_aFa8Z0U0ldymizRxYJXFsANb2sal&clade=mammal&org=Human&db=hg38&hgta_group=rep&hgta_track=cons100way&hgta_table=0&hgta_regionType=genome&position=chr2%3A25%2C160%2C915-25%2C168%2C903&hgta_outputType=wigData&hgta_outFileName=RepeatMasker.gtf\n",
    "\n",
    "repeatmasker database description: https://genome.ucsc.edu/cgi-bin/hgTables?db=hg38&hgta_group=rep&hgta_track=rmsk&hgta_table=rmsk&hgta_doSchema=describe+table+schema"
   ]
  },
  {
   "cell_type": "code",
   "execution_count": null,
   "id": "e660917d",
   "metadata": {},
   "outputs": [],
   "source": [
    "f = gzip.open(\"RepeatMasker_hg38.gtf.gz\", mode='rb')\n",
    "RM = pd.read_csv(f, sep = \"\\t\")\n",
    "RM.head()"
   ]
  },
  {
   "cell_type": "code",
   "execution_count": null,
   "id": "c37f85e6",
   "metadata": {},
   "outputs": [],
   "source": [
    "chrom_list_XY = list(range(1,23)) + ['X', 'Y']\n",
    "chrom_list_XY = ['chr'+str(i) for i in chrom_list_XY]\n",
    "\n",
    "RM = RM[RM['genoName'].isin(chrom_list_XY)]\n",
    "RM.repClass.unique()"
   ]
  },
  {
   "cell_type": "code",
   "execution_count": null,
   "id": "d0e979cf",
   "metadata": {},
   "outputs": [],
   "source": [
    "RM = RM.replace('LTR?', 'LTR')\n",
    "RM = RM.replace('RC?', 'RC')\n",
    "RM = RM.replace('SINE?', 'SINE')\n",
    "RM = RM.replace('DNA?', 'DNA')\n",
    "RM = RM.replace('DNA', 'DNA_transposons')\n",
    "RM = RM.replace('Retroposon', 'SVA')\n",
    "RM = RM.replace('RC', 'RC_transposons')\n",
    "\n",
    "TE = ['LINE', 'SINE', 'LTR', 'SVA', 'RC_transposons', 'DNA_transposons']\n",
    "RM_transposons = RM[RM['repClass'].isin(TE)]"
   ]
  },
  {
   "cell_type": "code",
   "execution_count": null,
   "id": "72fa8845",
   "metadata": {},
   "outputs": [],
   "source": [
    "RM_transposons.genoName.unique()"
   ]
  },
  {
   "cell_type": "markdown",
   "id": "dc0d192e",
   "metadata": {},
   "source": [
    "### Processing a file with transposons coordinates\n",
    "\n",
    "<a name='processing'></a>\n",
    "[Return to Table of Contents](#TOC)"
   ]
  },
  {
   "cell_type": "code",
   "execution_count": null,
   "id": "74a1088f",
   "metadata": {},
   "outputs": [],
   "source": [
    "# translate the coordinates to + strand\n",
    "\n",
    "RM_transposons = RM_transposons.sort_values(by=['strand'])\n",
    "RM_transposons = RM_transposons.reset_index(drop=True)\n",
    "\n",
    "#number of row with the first '-' strand value\n",
    "separator_strand = len(RM_transposons[RM_transposons['strand']=='+'])\n",
    "\n",
    "transposons_coordinates = RM_transposons.copy()\n",
    "\n",
    "for row in range(separator_strand, len(transposons_coordinates)):\n",
    "\n",
    "    N_chr = transposons_coordinates.iloc[row]['genoName'][3:]\n",
    "    if N_chr != 'X' and N_chr != 'Y':\n",
    "        N_chr = int(N_chr)\n",
    "    start = int(transposons_coordinates.iloc[row]['genoStart'])\n",
    "    end = int(transposons_coordinates.iloc[row]['genoEnd'])\n",
    "    \n",
    "    #translate coordinates to coding strand\n",
    "    chr_len = len(hg38_genome[N_chr])\n",
    "    start1 = chr_len-end-1\n",
    "    end1 = chr_len-start-1\n",
    "    \n",
    "    transposons_coordinates.at[row, 'genoStart'] = start1\n",
    "    transposons_coordinates.at[row, 'genoEnd'] = end1\n",
    "    \n",
    "transposons_coordinates = transposons_coordinates[['genoName', 'genoStart', 'genoEnd', 'repName', 'repClass',\n",
    "       'repFamily']]\n",
    "transposons_coordinates.to_csv('transposons_coordinates.csv', sep='\\t', index=False)"
   ]
  },
  {
   "cell_type": "code",
   "execution_count": null,
   "id": "9f318046",
   "metadata": {},
   "outputs": [],
   "source": [
    "RM_transposons.iloc[separator_strand-1]['genoStart']"
   ]
  },
  {
   "cell_type": "code",
   "execution_count": null,
   "id": "ae644ea6",
   "metadata": {},
   "outputs": [],
   "source": [
    "transposons_coordinates.iloc[separator_strand-1]['genoStart']"
   ]
  },
  {
   "cell_type": "code",
   "execution_count": null,
   "id": "0add4a30",
   "metadata": {},
   "outputs": [],
   "source": [
    "RM_transposons.iloc[separator_strand]['genoStart']"
   ]
  },
  {
   "cell_type": "code",
   "execution_count": null,
   "id": "58f14dfa",
   "metadata": {},
   "outputs": [],
   "source": [
    "transposons_coordinates.iloc[separator_strand]['genoStart']"
   ]
  },
  {
   "cell_type": "markdown",
   "id": "18c8497f",
   "metadata": {},
   "source": [
    "### Searching for potential APOBEC targets and APOBEC-mutated targets in and outside TE and calculation D_APOBEC\n",
    "\n",
    "<a name='D_APOBEC_TE'></a>\n",
    "[Return to Table of Contents](#TOC)"
   ]
  },
  {
   "cell_type": "markdown",
   "id": "a4efa19d",
   "metadata": {},
   "source": [
    "#### Python script\n",
    "\n",
    "the program below was run separately on the command line as a python script"
   ]
  },
  {
   "cell_type": "code",
   "execution_count": null,
   "id": "5b2c8e01",
   "metadata": {},
   "outputs": [],
   "source": [
    "import pandas as pd\n",
    "import numpy as np\n",
    "import gzip\n",
    "from Bio.SeqIO.FastaIO import SimpleFastaParser\n",
    "from Bio import SeqIO \n",
    "from Bio.SeqRecord import SeqRecord\n",
    "from Bio.Seq import Seq\n",
    "from Bio.Seq import MutableSeq\n",
    "\n",
    "# input data\n",
    "genome_path = 'genome/hg38.fa.gz'\n",
    "TE_path = 'transposons_coordinates.csv'\n",
    "\n",
    "cancer = ['BLCA', 'BRCA', 'CESC', 'HNSC', 'LUAD', 'LUSC']\n",
    "cancer_path = 'data/APOBEC_mutated_position_cancer_samples/'\n",
    "outfile_path = 'data/outpus/D_APOBEC_TE.csv'\n",
    "\n",
    "# number of the potential APOBEC targets in the genome\n",
    "N_motifs_genome = 350769311\n",
    "\n",
    "\n",
    "# read genome file\n",
    "chr_list = list(range(1,23))\n",
    "hg38_genome = dict()\n",
    "with gzip.open(genome_path, \"rt\") as fasta_file:\n",
    "    for sequence in SimpleFastaParser(fasta_file):\n",
    "        chrom = sequence[0][3:]\n",
    "        if chrom in [str(chrom) for chrom in chr_list]:\n",
    "            hg38_genome[int(chrom)] = sequence[1].upper()\n",
    "            print(chrom, end=', ')\n",
    "        elif chrom in ['X', 'Y']:\n",
    "            hg38_genome[chrom] = sequence[1].upper()\n",
    "            print(chrom, end=', ')\n",
    "\n",
    "# read file with transposon coordinates\n",
    "transposons_coordinates = pd.read_csv(TE_path, sep='\\t')\n",
    "\n",
    "\n",
    "# count potential APOBEC targets (TC) in TE\n",
    "transposons_coordinates['N_motifs'] = 0\n",
    "print(len(transposons_coordinates))\n",
    "for row in range(0, len(transposons_coordinates)):\n",
    "    N_chr = transposons_coordinates.iloc[row]['genoName'][3:]\n",
    "    if N_chr != 'X' and N_chr != 'Y':\n",
    "        N_chr = int(N_chr)\n",
    "    start = int(transposons_coordinates.iloc[row]['genoStart'])\n",
    "    end = int(transposons_coordinates.iloc[row]['genoEnd'])\n",
    "    seq = hg38_genome[N_chr][start:end]\n",
    "    transposons_coordinates.at[row, 'N_motifs'] = seq.count('TC') + seq.count('GA')\n",
    "N_motifs_TE = transposons_coordinates[['repClass', 'N_motifs']]\n",
    "N_motifs_TE = N_motifs_TE.groupby('repClass').sum()\n",
    "N_motifs_TE = N_motifs_TE.rename(columns={\"N_motifs\": \"N_motifs_inTE\"})\n",
    "N_motifs_TE['N_motifs_outsideTE'] = N_motifs_genome - N_motifs_TE.N_motifs_inTE\n",
    "    \n",
    "\n",
    "# result dataframe with D_APOBEC\n",
    "col_names = ['cancer','sample', 'transposon_class', 'N_motifs_inTE', 'N_motifs_outsideTE', 'N_mutated_motifs_inTE', 'N_mutated_motifs_outsideTE', 'D_APOBEC_in', 'D_APOBEC_outside']\n",
    "APOBEC_mutagenesis_TE = pd.DataFrame(columns=col_names)\n",
    "\n",
    "\n",
    "# count mutated targets in TE\n",
    "# replace mutated position in the genome to 'N' by cancer type and sample\n",
    "hg38_genome_mutated = hg38_genome.copy()\n",
    "for key, value in hg38_genome_mutated.items():\n",
    "    hg38_genome_mutated[key] = MutableSeq(value)\n",
    "\n",
    "chrom_list_XY = list(range(1,23)) + ['X', 'Y']\n",
    "chr_list_XY = ['chr'+str(i) for i in chrom_list_XY]\n",
    "\n",
    "for cancer_type in cancer:\n",
    "    print(cancer_type)\n",
    "    df = pd.read_csv(cancer_path+cancer_type+'_hg38.bed', sep='\\t', names=['chr', 'start', 'end', 'Sample'])\n",
    "    df = df[df['chr'].isin(chr_list_XY)]\n",
    "    \n",
    "    for sample in df.Sample.unique():\n",
    "        df2 = df[df['Sample']==sample]\n",
    "        df2 = df2.reset_index(drop=True)\n",
    "        \n",
    "        mutated_sample_genome = hg38_genome_mutated.copy()\n",
    "        not_mutated_motifs_count = dict()\n",
    "    \n",
    "        for Chr in chrom_list_XY:\n",
    "            N_chr = 'chr'+str(Chr)\n",
    "            df3 = df2[df2['chr']==N_chr]\n",
    "            df3 = df3.reset_index(drop=True)\n",
    "            mutation_list = df3.start.to_list()\n",
    "            for ind in mutation_list:\n",
    "                mutated_sample_genome[Chr][ind] = 'N'\n",
    "                \n",
    "            # count the number of NOT mutated motifs in the genome\n",
    "            not_mutated_motifs_count[Chr] = pd.Series([mutated_sample_genome[Chr].count('TC'), mutated_sample_genome[Chr].count('GA')], index = ['TC', 'GA'])\n",
    "        not_mutated_motifs_count = pd.concat(not_mutated_motifs_count).unstack()\n",
    "        not_mutated_motifs_count['TC_GA'] = not_mutated_motifs_count['TC']+not_mutated_motifs_count['GA']\n",
    "        N_mutated_motifs_genome = N_motifs_genome - not_mutated_motifs_count.TC_GA.sum()\n",
    "\n",
    "        \n",
    "        # count the number of NOT mutated motifs in TE for the sample\n",
    "        transposons_coordinates['N_not_mutated_motifs'] = 0\n",
    "        for row in range(0, len(transposons_coordinates)):\n",
    "            N_chr = transposons_coordinates.iloc[row]['genoName'][3:]\n",
    "            if N_chr != 'X' and N_chr != 'Y':\n",
    "                N_chr = int(N_chr)\n",
    "            start = int(transposons_coordinates.iloc[row]['genoStart'])\n",
    "            end = int(transposons_coordinates.iloc[row]['genoEnd'])\n",
    "            seq = mutated_sample_genome[N_chr][start:end]\n",
    "            transposons_coordinates.at[row, 'N_not_mutated_motifs'] = seq.count('TC') + seq.count('GA')\n",
    "\n",
    "        transposons_coordinates['N_mutated_motifs'] = transposons_coordinates.N_motifs - transposons_coordinates.N_not_mutated_motifs\n",
    "        \n",
    "        grouped_TE = transposons_coordinates[['repClass', 'N_mutated_motifs']]\n",
    "        grouped_TE = grouped_TE.groupby('repClass').sum()\n",
    "        grouped_TE = grouped_TE.rename(columns={'N_mutated_motifs':'N_mutated_motifs_inTE'})\n",
    "        grouped_TE['N_mutated_motifs_outsideTE'] = N_mutated_motifs_genome - grouped_TE.N_mutated_motifs_inTE\n",
    "        \n",
    "        new_df = pd.concat([N_motifs_TE, grouped_TE], axis=1)\n",
    "        new_df['D_APOBEC_in'] = new_df.N_mutated_motifs_inTE / new_df.N_motifs_inTE\n",
    "        new_df['D_APOBEC_outside'] = new_df.N_mutated_motifs_outsideTE / new_df.N_motifs_outsideTE\n",
    "        new_df = new_df.reset_index()\n",
    "        new_df = new_df.rename(columns={'repClass':'transposon_class'})\n",
    "        new_df = new_df[['transposon_class', 'N_motifs_inTE', 'N_motifs_outsideTE', 'N_mutated_motifs_inTE', 'N_mutated_motifs_outsideTE', 'D_APOBEC_in', 'D_APOBEC_outside']]\n",
    "        for row in range(0, len(new_df)):\n",
    "            APOBEC_mutagenesis_TE.loc[len(APOBEC_mutagenesis_TE.index)] = [cancer_type, sample]+new_df.iloc[row].to_list()\n",
    "\n",
    "APOBEC_mutagenesis_TE.to_csv(outfile_path, sep='\\t')"
   ]
  }
 ],
 "metadata": {
  "kernelspec": {
   "display_name": "Python 3 (ipykernel)",
   "language": "python",
   "name": "python3"
  },
  "language_info": {
   "codemirror_mode": {
    "name": "ipython",
    "version": 3
   },
   "file_extension": ".py",
   "mimetype": "text/x-python",
   "name": "python",
   "nbconvert_exporter": "python",
   "pygments_lexer": "ipython3",
   "version": "3.9.13"
  }
 },
 "nbformat": 4,
 "nbformat_minor": 5
}
